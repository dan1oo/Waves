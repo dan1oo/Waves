{
 "cells": [
  {
   "cell_type": "code",
   "execution_count": 2,
   "id": "79034cc4",
   "metadata": {},
   "outputs": [],
   "source": [
    "import numpy as np\n",
    "import matplotlib.pyplot as plt\n",
    "from scipy.optimize import curve_fit\n",
    "import statistics"
   ]
  },
  {
   "cell_type": "code",
   "execution_count": 3,
   "id": "34b2693d",
   "metadata": {},
   "outputs": [],
   "source": [
    "def stddev(data):\n",
    "    n = len(data)\n",
    "    mean = sum(data)/n\n",
    "    deviations = [(x-mean)**2 for x in data]\n",
    "    variance = sum(deviations)/(n-1)\n",
    "    stddev = np.sqrt(variance)\n",
    "    return stddev"
   ]
  },
  {
   "cell_type": "code",
   "execution_count": 4,
   "id": "e178b4b6",
   "metadata": {},
   "outputs": [],
   "source": [
    "voltages = [4.821, 5.493, 5.626, 4.951, 5.248, 5.588, 4.585, 4.677, 5.494, 4.665,\n",
    "5.390, 5.294, 4.490, 4.796, 5.219, 4.763, 5.074, 4.949, 5.514, 4.891,\n",
    "4.571, 5.269, 5.210, 5.165, 5.403, 5.042, 5.081, 5.143, 5.642, 5.689]"
   ]
  },
  {
   "cell_type": "code",
   "execution_count": 5,
   "id": "cdc47e48",
   "metadata": {},
   "outputs": [
    {
     "name": "stdout",
     "output_type": "stream",
     "text": [
      "5.124766666666667\n"
     ]
    }
   ],
   "source": [
    "print(statistics.mean(voltages))"
   ]
  },
  {
   "cell_type": "code",
   "execution_count": 6,
   "id": "f1fd9bd7",
   "metadata": {},
   "outputs": [
    {
     "name": "stdout",
     "output_type": "stream",
     "text": [
      "0.3511930094478783\n"
     ]
    }
   ],
   "source": [
    "print(statistics.stdev(voltages))"
   ]
  },
  {
   "cell_type": "code",
   "execution_count": 7,
   "id": "4f5edb71",
   "metadata": {},
   "outputs": [
    {
     "name": "stdout",
     "output_type": "stream",
     "text": [
      "0.3511930094478783\n"
     ]
    }
   ],
   "source": [
    "print(stddev(voltages))"
   ]
  },
  {
   "cell_type": "code",
   "execution_count": 15,
   "id": "99cb0d98",
   "metadata": {},
   "outputs": [
    {
     "name": "stdout",
     "output_type": "stream",
     "text": [
      "Mean: 5.124766666666667\n",
      "Statistical error of each measurement: 0.3511930094478783\n",
      "statistical error of the mean: 0.06411877777090928\n"
     ]
    }
   ],
   "source": [
    "print(\"Mean: \"+ str(statistics.mean(voltages)))\n",
    "print(\"Statistical error of each measurement: \"+ str(stddev(voltages)))\n",
    "print(\"statistical error of the mean: \"+ str(stddev(voltages)/30**0.5))"
   ]
  },
  {
   "cell_type": "code",
   "execution_count": null,
   "id": "756c5422",
   "metadata": {},
   "outputs": [],
   "source": []
  }
 ],
 "metadata": {
  "kernelspec": {
   "display_name": "Python 3 (ipykernel)",
   "language": "python",
   "name": "python3"
  },
  "language_info": {
   "codemirror_mode": {
    "name": "ipython",
    "version": 3
   },
   "file_extension": ".py",
   "mimetype": "text/x-python",
   "name": "python",
   "nbconvert_exporter": "python",
   "pygments_lexer": "ipython3",
   "version": "3.9.13"
  }
 },
 "nbformat": 4,
 "nbformat_minor": 5
}
